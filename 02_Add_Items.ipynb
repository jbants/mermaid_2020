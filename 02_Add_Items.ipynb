{
 "metadata": {
  "language_info": {
   "codemirror_mode": {
    "name": "ipython",
    "version": 3
   },
   "file_extension": ".py",
   "mimetype": "text/x-python",
   "name": "python",
   "nbconvert_exporter": "python",
   "pygments_lexer": "ipython3",
   "version": "3.8.2-final"
  },
  "orig_nbformat": 2,
  "kernelspec": {
   "name": "python3",
   "display_name": "Python 3"
  }
 },
 "nbformat": 4,
 "nbformat_minor": 2,
 "cells": [
  {
   "source": [
    "# Add items to an existing STAC catalog"
   ],
   "cell_type": "markdown",
   "metadata": {}
  },
  {
   "source": [
    "Follow the [first tutorial](./01_Create_Catalog.ipynb) to create a local STAC catalog"
   ],
   "cell_type": "markdown",
   "metadata": {}
  },
  {
   "cell_type": "code",
   "execution_count": 1,
   "metadata": {},
   "outputs": [],
   "source": [
    "import pystac\n",
    "from datetime import datetime"
   ]
  },
  {
   "cell_type": "code",
   "execution_count": 6,
   "metadata": {},
   "outputs": [],
   "source": [
    "tessellata = pystac.Catalog.from_file('tesellata_stac/catalog.json')"
   ]
  },
  {
   "cell_type": "code",
   "execution_count": 10,
   "metadata": {},
   "outputs": [
    {
     "output_type": "stream",
     "name": "stdout",
     "text": [
      "* <Catalog id=tesellata_stac>\n    * <Collection id=dhw>\n    * <Collection id=sst>\n    * <Collection id=hpop>\n    * <Collection id=fishing_pressure>\n    * <Collection id=water_pollution>\n"
     ]
    }
   ],
   "source": [
    "tessellata.describe()"
   ]
  },
  {
   "source": [
    "## Create an Item and add it to a collection"
   ],
   "cell_type": "markdown",
   "metadata": {}
  },
  {
   "cell_type": "code",
   "execution_count": 11,
   "metadata": {},
   "outputs": [
    {
     "output_type": "stream",
     "name": "stdout",
     "text": [
      "An Item is the core granular entity in a STAC, containing the core metadata\n    that enables any client to search or crawl online catalogs of spatial 'assets' -\n    satellite imagery, derived data, DEM's, etc.\n\n    Args:\n        id (str): Provider identifier. Must be unique within the STAC.\n        geometry (dict): Defines the full footprint of the asset represented by this item,\n            formatted according to `RFC 7946, section 3.1 (GeoJSON)\n            <https://tools.ietf.org/html/rfc7946>`_.\n        bbox (List[float] or None):  Bounding Box of the asset represented by this item using\n            either 2D or 3D geometries. The length of the array must be 2*n where n is the\n            number of dimensions. Could also be None in the case of a null geometry.\n        datetime (datetime or None): Datetime associated with this item. If None,\n            a start_datetime and end_datetime must be supplied in the properties.\n        properties (dict): A dictionary of additional metadata for the item.\n        stac_extensions (List[str]): Optional list of extensions the Item implements.\n        href (str or None): Optional HREF for this item, which be set as the item's\n            self link's HREF.\n        collection (Collection or str): The Collection or Collection ID that this item\n            belongs to.\n        extra_fields (dict or None): Extra fields that are part of the top-level JSON properties\n            of the Item.\n\n    Attributes:\n        id (str): Provider identifier. Unique within the STAC.\n        geometry (dict): Defines the full footprint of the asset represented by this item,\n            formatted according to `RFC 7946, section 3.1 (GeoJSON)\n            <https://tools.ietf.org/html/rfc7946>`_.\n        bbox (List[float] or None):  Bounding Box of the asset represented by this item using\n            either 2D or 3D geometries. The length of the array is 2*n where n is the\n            number of dimensions. Could also be None in the case of a null geometry.\n        datetime (datetime or None): Datetime associated with this item. If None,\n            the start_datetime and end_datetime in the common_metadata\n            will supply the datetime range of the Item.\n        properties (dict): A dictionary of additional metadata for the item.\n        stac_extensions (List[str] or None): Optional list of extensions the Item implements.\n        collection (Collection or None): Collection that this item is a part of.\n        links (List[Link]): A list of :class:`~pystac.Link` objects representing\n            all links associated with this STACObject.\n        assets (Dict[str, Asset]): Dictionary of asset objects that can be downloaded,\n            each with a unique key.\n        collection_id (str or None): The Collection ID that this item belongs to, if any.\n        extra_fields (dict or None): Extra fields that are part of the top-level JSON properties\n            of the Item.\n    \n"
     ]
    }
   ],
   "source": [
    "print(pystac.Item.__doc__)"
   ]
  },
  {
   "cell_type": "code",
   "execution_count": 12,
   "metadata": {},
   "outputs": [],
   "source": [
    "# Add your item properties here\n",
    "item = pystac.Item(\n",
    "    id='SST_2019_01_01',\n",
    "    geometry={\n",
    "        \"type\": \"Polygon\",\n",
    "        \"coordinates\": [\n",
    "            [\n",
    "                [\n",
    "                    -100.714969,\n",
    "                    76.162069\n",
    "                ],\n",
    "                [\n",
    "                    -98.639394,\n",
    "                    76.313014\n",
    "                ],\n",
    "                [\n",
    "                    -97.962728,\n",
    "                    75.734842\n",
    "                ],\n",
    "                [\n",
    "                    -99.962175,\n",
    "                    75.588747\n",
    "                ],\n",
    "                [\n",
    "                    -100.714969,\n",
    "                    76.162069\n",
    "                ]\n",
    "            ]\n",
    "        ]\n",
    "    },\n",
    "    bbox=[-180.0, -90.0, 180.0, 90.0],\n",
    "    datetime=datetime.utcnow(),\n",
    "    properties={}\n",
    "    )"
   ]
  },
  {
   "cell_type": "code",
   "execution_count": 14,
   "metadata": {},
   "outputs": [],
   "source": [
    "tessellata.get_child('sst').add_item(item)"
   ]
  },
  {
   "cell_type": "code",
   "execution_count": 15,
   "metadata": {},
   "outputs": [
    {
     "output_type": "stream",
     "name": "stdout",
     "text": [
      "* <Catalog id=tesellata_stac>\n    * <Collection id=dhw>\n    * <Collection id=sst>\n      * <Item id=SST_2019_01_01>\n    * <Collection id=hpop>\n    * <Collection id=fishing_pressure>\n    * <Collection id=water_pollution>\n"
     ]
    }
   ],
   "source": [
    "tessellata.describe()"
   ]
  },
  {
   "cell_type": "code",
   "execution_count": null,
   "metadata": {},
   "outputs": [],
   "source": []
  }
 ]
}