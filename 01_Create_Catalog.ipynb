{
 "cells": [
  {
   "cell_type": "code",
   "execution_count": 53,
   "metadata": {},
   "outputs": [],
   "source": [
    "import pystac\n",
    "from datetime import datetime"
   ]
  },
  {
   "source": [
    "# Create a base STAC Catalog"
   ],
   "cell_type": "markdown",
   "metadata": {}
  },
  {
   "cell_type": "code",
   "execution_count": 54,
   "metadata": {},
   "outputs": [
    {
     "output_type": "stream",
     "name": "stdout",
     "text": [
      "A PySTAC Catalog represents a STAC catalog in memory.\n\n    A Catalog is a :class:`~pystac.STACObject` that may contain children,\n    which are instances of :class:`~pystac.Catalog` or :class:`~pystac.Collection`,\n    as well as :class:`~pystac.Item` s.\n\n    Args:\n        id (str): Identifier for the catalog. Must be unique within the STAC.\n        description (str): Detailed multi-line description to fully explain the catalog.\n            `CommonMark 0.28 syntax <http://commonmark.org/>`_ MAY be used for rich text\n            representation.\n        title (str or None): Optional short descriptive one-line title for the catalog.\n        stac_extensions (List[str]): Optional list of extensions the Catalog implements.\n        href (str or None): Optional HREF for this catalog, which be set as the catalog's\n            self link's HREF.\n        catalog_type (str or None): Optional catalog type for this catalog. Must\n            be one of the values in :class`~pystac.CatalogType`.\n\n    Attributes:\n        id (str): Identifier for the catalog.\n        description (str): Detailed multi-line description to fully explain the catalog.\n        title (str or None): Optional short descriptive one-line title for the catalog.\n        stac_extensions (List[str] or None): Optional list of extensions the Catalog implements.\n        extra_fields (dict or None): Extra fields that are part of the top-level JSON properties\n            of the Catalog.\n        links (List[Link]): A list of :class:`~pystac.Link` objects representing\n            all links associated with this Catalog.\n        catalog_type (str or None): The catalog type, or None if not known.\n    \n"
     ]
    }
   ],
   "source": [
    "print(pystac.Catalog.__doc__)"
   ]
  },
  {
   "cell_type": "code",
   "execution_count": 55,
   "metadata": {},
   "outputs": [],
   "source": [
    "tessellata = pystac.Catalog(\n",
    "    id='tesellata_stac', \n",
    "    description='Covariate Datasets for the MERMAID Project',\n",
    "    title='STAC Catalog for MERMAID'\n",
    "    )"
   ]
  },
  {
   "source": [
    "## Create a general extents object for collections"
   ],
   "cell_type": "markdown",
   "metadata": {}
  },
  {
   "cell_type": "code",
   "execution_count": 56,
   "metadata": {},
   "outputs": [],
   "source": [
    "capture_date = datetime.strptime('2012-01-01', '%Y-%m-%d') \n",
    "sp_extent = pystac.SpatialExtent([None,None,None,None])\n",
    "tmp_extent = pystac.TemporalExtent([(capture_date, None)])\n",
    "extent = pystac.Extent(sp_extent, tmp_extent)"
   ]
  },
  {
   "source": [
    "## Create collections for each covariate"
   ],
   "cell_type": "markdown",
   "metadata": {}
  },
  {
   "cell_type": "code",
   "execution_count": 57,
   "metadata": {},
   "outputs": [
    {
     "output_type": "stream",
     "name": "stdout",
     "text": [
      "A Collection extends the Catalog spec with additional metadata that helps\n    enable discovery.\n\n    Args:\n        id (str): Identifier for the collection. Must be unique within the STAC.\n        description (str): Detailed multi-line description to fully explain the collection.\n            `CommonMark 0.28 syntax <http://commonmark.org/>`_ MAY be used for rich text\n            representation.\n        extent (Extent): Spatial and temporal extents that describe the bounds of\n            all items contained within this Collection.\n        title (str or None): Optional short descriptive one-line title for the collection.\n        stac_extensions (List[str]): Optional list of extensions the Collection implements.\n        href (str or None): Optional HREF for this collection, which be set as the collection's\n            self link's HREF.\n        catalog_type (str or None): Optional catalog type for this catalog. Must\n            be one of the values in :class`~pystac.CatalogType`.\n        license (str):  Collection's license(s) as a `SPDX License identifier\n            <https://spdx.org/licenses/>`_, `various`, or `proprietary`. If collection includes\n            data with multiple different licenses, use `various` and add a link for each.\n            Defaults to 'proprietary'.\n        keywords (List[str]): Optional list of keywords describing the collection.\n        providers (List[Provider]): Optional list of providers of this Collection.\n        properties (dict): Optional dict of common fields across referenced items.\n        summaries (dict): An optional map of property summaries,\n            either a set of values or statistics such as a range.\n        extra_fields (dict or None): Extra fields that are part of the top-level JSON properties\n            of the Collection.\n\n    Attributes:\n        id (str): Identifier for the collection.\n        description (str): Detailed multi-line description to fully explain the collection.\n        extent (Extent): Spatial and temporal extents that describe the bounds of\n            all items contained within this Collection.\n        title (str or None): Optional short descriptive one-line title for the collection.\n        stac_extensions (List[str]): Optional list of extensions the Collection implements.\n        keywords (List[str] or None): Optional list of keywords describing the collection.\n        providers (List[Provider] or None): Optional list of providers of this Collection.\n        properties (dict or None): Optional dict of common fields across referenced items.\n        summaries (dict or None): An optional map of property summaries,\n            either a set of values or statistics such as a range.\n        links (List[Link]): A list of :class:`~pystac.Link` objects representing\n            all links associated with this Collection.\n        extra_fields (dict or None): Extra fields that are part of the top-level JSON properties\n            of the Catalog.\n    \n"
     ]
    }
   ],
   "source": [
    "print(pystac.Collection.__doc__)"
   ]
  },
  {
   "cell_type": "code",
   "execution_count": 58,
   "metadata": {},
   "outputs": [],
   "source": [
    "DHW = pystac.Collection(\n",
    "    id='dhw', \n",
    "    description = 'Annual composite degree heating weeks (DHW)', \n",
    "    extent = extent,\n",
    "    title = 'DHW',\n",
    "    license = 'PDDL-1.0',\n",
    "    keywords = ['Heating', ],\n",
    "    providers = []\n",
    "    )\n",
    "tessellata.add_child(DHW)"
   ]
  },
  {
   "cell_type": "code",
   "execution_count": 59,
   "metadata": {},
   "outputs": [],
   "source": [
    "SST = pystac.Collection(\n",
    "    id='sst', \n",
    "    description = 'Daily sea surface temperature (SST)', \n",
    "    extent = extent,\n",
    "    title = 'SST',\n",
    "    license = 'PDDL-1.0',\n",
    "    keywords = ['Heating', 'Oceans'],\n",
    "    providers = []\n",
    "    )\n",
    "tessellata.add_child(SST)"
   ]
  },
  {
   "cell_type": "code",
   "execution_count": 60,
   "metadata": {},
   "outputs": [],
   "source": [
    "Human_pop = pystac.Collection(\n",
    "    id='hpop', \n",
    "    description = 'human population (number of people) within 10, 50, 100, 250, 500 km', \n",
    "    extent = extent,\n",
    "    title = 'Human Population',\n",
    "    license = 'PDDL-1.0',\n",
    "    keywords = ['Heating', 'Oceans'],\n",
    "    providers = []\n",
    "    )\n",
    "tessellata.add_child(Human_pop)"
   ]
  },
  {
   "cell_type": "code",
   "execution_count": 61,
   "metadata": {},
   "outputs": [],
   "source": [
    "Fishing_pressure = pystac.Collection(\n",
    "    id='fishing_pressure', \n",
    "    description = 'Collection of Fishing Pressure datasets', \n",
    "    extent = extent,\n",
    "    title = 'fishing_pressure',\n",
    "    license = 'PDDL-1.0',\n",
    "    keywords = ['Fishing', 'Oceans'],\n",
    "    providers = []\n",
    "    )\n",
    "tessellata.add_child(Fishing_pressure)"
   ]
  },
  {
   "cell_type": "code",
   "execution_count": 62,
   "metadata": {},
   "outputs": [],
   "source": [
    "Water_pollution = pystac.Collection(\n",
    "    id='water_pollution', \n",
    "    description = 'Collection of Water Pollution datasets', \n",
    "    extent = extent,\n",
    "    title = 'water_pollution',\n",
    "    license = 'PDDL-1.0',\n",
    "    keywords = ['Pollution', 'Oceans'],\n",
    "    providers = []\n",
    "    )\n",
    "tessellata.add_child(Water_pollution)"
   ]
  },
  {
   "cell_type": "code",
   "execution_count": 66,
   "metadata": {},
   "outputs": [
    {
     "output_type": "stream",
     "name": "stdout",
     "text": [
      "* <Catalog id=tesellata_stac>\n    * <Collection id=dhw>\n    * <Collection id=sst>\n    * <Collection id=hpop>\n    * <Collection id=fishing_pressure>\n    * <Collection id=water_pollution>\n"
     ]
    }
   ],
   "source": [
    "tessellata.describe()"
   ]
  },
  {
   "source": [
    " ## Save the catalog. "
   ],
   "cell_type": "markdown",
   "metadata": {}
  },
  {
   "source": [
    "This creates a STAC catalog and collections with relative path links"
   ],
   "cell_type": "markdown",
   "metadata": {}
  },
  {
   "cell_type": "code",
   "execution_count": 67,
   "metadata": {},
   "outputs": [],
   "source": [
    " tessellata.normalize_hrefs('tesellata_stac')\n",
    " tessellata.save(catalog_type=pystac.CatalogType.SELF_CONTAINED)"
   ]
  },
  {
   "cell_type": "code",
   "execution_count": null,
   "metadata": {},
   "outputs": [],
   "source": []
  }
 ],
 "metadata": {
  "kernelspec": {
   "name": "python3",
   "display_name": "Python 3"
  }
 },
 "nbformat": 4,
 "nbformat_minor": 4
}